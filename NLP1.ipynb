{
  "nbformat": 4,
  "nbformat_minor": 0,
  "metadata": {
    "colab": {
      "provenance": [],
      "authorship_tag": "ABX9TyNKUbOBpWoR1pNkACr/05N3",
      "include_colab_link": true
    },
    "kernelspec": {
      "name": "python3",
      "display_name": "Python 3"
    },
    "language_info": {
      "name": "python"
    }
  },
  "cells": [
    {
      "cell_type": "markdown",
      "metadata": {
        "id": "view-in-github",
        "colab_type": "text"
      },
      "source": [
        "<a href=\"https://colab.research.google.com/github/tyagiman/portfolio/blob/master/NLP1.ipynb\" target=\"_parent\"><img src=\"https://colab.research.google.com/assets/colab-badge.svg\" alt=\"Open In Colab\"/></a>"
      ]
    },
    {
      "cell_type": "code",
      "execution_count": 1,
      "metadata": {
        "id": "TX2VDS06EJXh"
      },
      "outputs": [],
      "source": [
        "import pandas as pd"
      ]
    },
    {
      "cell_type": "code",
      "source": [
        "import spacy"
      ],
      "metadata": {
        "id": "pjS8wl4WEPfR"
      },
      "execution_count": 2,
      "outputs": []
    },
    {
      "cell_type": "code",
      "source": [
        "# Load the English NLP model\n",
        "nlp = spacy.load(\"en_core_web_sm\")"
      ],
      "metadata": {
        "id": "KTsHQAslEY3R"
      },
      "execution_count": 3,
      "outputs": []
    },
    {
      "cell_type": "code",
      "source": [
        "# Define the sentence\n",
        "sentence = \"It was the best of times and it was the worst of times.\""
      ],
      "metadata": {
        "id": "B8bHURifEchR"
      },
      "execution_count": 4,
      "outputs": []
    },
    {
      "cell_type": "code",
      "source": [
        "# Process the sentence with spaCy\n",
        "doc = nlp(sentence)"
      ],
      "metadata": {
        "id": "XBM45GeUEfqT"
      },
      "execution_count": 5,
      "outputs": []
    },
    {
      "cell_type": "code",
      "source": [
        "# Find the token 'best' in the sentence\n",
        "target_word = \"best\"\n",
        "token_with_best = None"
      ],
      "metadata": {
        "id": "zfj62IrtEiih"
      },
      "execution_count": 6,
      "outputs": []
    },
    {
      "cell_type": "code",
      "source": [
        "for token in doc:\n",
        "    if token.text.lower() == target_word:\n",
        "        token_with_best = token\n",
        "        break"
      ],
      "metadata": {
        "id": "fM4gqTPZEoXn"
      },
      "execution_count": 7,
      "outputs": []
    },
    {
      "cell_type": "code",
      "source": [
        "# Check if the token 'best' was found\n",
        "if token_with_best:\n",
        "    # Count the number of children for the token 'best'\n",
        "    num_children = len(list(token_with_best.children))\n",
        "    print(f\"The number of children for the word '{target_word}' is {num_children}.\")\n",
        "else:\n",
        "    print(f\"The word '{target_word}' was not found in the sentence.\")"
      ],
      "metadata": {
        "colab": {
          "base_uri": "https://localhost:8080/"
        },
        "id": "GT_tMmdmFE5X",
        "outputId": "83f4bd80-b5b8-433e-91ec-204ed064290e"
      },
      "execution_count": 8,
      "outputs": [
        {
          "output_type": "stream",
          "name": "stdout",
          "text": [
            "The number of children for the word 'best' is 2.\n"
          ]
        }
      ]
    }
  ]
}